{
 "cells": [
  {
   "cell_type": "code",
   "execution_count": 1,
   "id": "c6cf902f",
   "metadata": {
    "collapsed": true
   },
   "outputs": [
    {
     "name": "stdout",
     "output_type": "stream",
     "text": [
      "Requirement already satisfied: opencv-python in c:\\users\\nilay\\anaconda3\\lib\\site-packages (4.7.0.72)\n",
      "Requirement already satisfied: numpy>=1.21.2 in c:\\users\\nilay\\anaconda3\\lib\\site-packages (from opencv-python) (1.23.5)\n"
     ]
    },
    {
     "name": "stderr",
     "output_type": "stream",
     "text": [
      "WARNING: Ignoring invalid distribution -yspark (c:\\users\\nilay\\anaconda3\\lib\\site-packages)\n",
      "WARNING: Ignoring invalid distribution -rotobuf (c:\\users\\nilay\\anaconda3\\lib\\site-packages)\n",
      "WARNING: Ignoring invalid distribution -yspark (c:\\users\\nilay\\anaconda3\\lib\\site-packages)\n",
      "WARNING: Ignoring invalid distribution -rotobuf (c:\\users\\nilay\\anaconda3\\lib\\site-packages)\n",
      "WARNING: Ignoring invalid distribution -yspark (c:\\users\\nilay\\anaconda3\\lib\\site-packages)\n",
      "WARNING: Ignoring invalid distribution -rotobuf (c:\\users\\nilay\\anaconda3\\lib\\site-packages)\n",
      "WARNING: Ignoring invalid distribution -yspark (c:\\users\\nilay\\anaconda3\\lib\\site-packages)\n",
      "WARNING: Ignoring invalid distribution -rotobuf (c:\\users\\nilay\\anaconda3\\lib\\site-packages)\n",
      "WARNING: Ignoring invalid distribution -yspark (c:\\users\\nilay\\anaconda3\\lib\\site-packages)\n",
      "WARNING: Ignoring invalid distribution -rotobuf (c:\\users\\nilay\\anaconda3\\lib\\site-packages)\n",
      "WARNING: Ignoring invalid distribution -yspark (c:\\users\\nilay\\anaconda3\\lib\\site-packages)\n",
      "WARNING: Ignoring invalid distribution -rotobuf (c:\\users\\nilay\\anaconda3\\lib\\site-packages)\n"
     ]
    }
   ],
   "source": [
    "!pip install opencv-python"
   ]
  },
  {
   "cell_type": "code",
   "execution_count": 16,
   "id": "fe5dfb8f",
   "metadata": {},
   "outputs": [],
   "source": [
    "import cv2"
   ]
  },
  {
   "cell_type": "code",
   "execution_count": 17,
   "id": "50d90fb5",
   "metadata": {},
   "outputs": [],
   "source": [
    "counter=0\n",
    "face_detector=cv2.CascadeClassifier(\"haarcascade_frontalface_default.xml\")"
   ]
  },
  {
   "cell_type": "code",
   "execution_count": 18,
   "id": "088fd0c0",
   "metadata": {},
   "outputs": [
    {
     "data": {
      "text/plain": [
       "< cv2.CascadeClassifier 0000027552ED3B50>"
      ]
     },
     "execution_count": 18,
     "metadata": {},
     "output_type": "execute_result"
    }
   ],
   "source": [
    "face_detector"
   ]
  },
  {
   "cell_type": "code",
   "execution_count": 19,
   "id": "b366489d",
   "metadata": {
    "scrolled": true
   },
   "outputs": [
    {
     "name": "stderr",
     "output_type": "stream",
     "text": [
      "<>:7: SyntaxWarning: \"is\" with a literal. Did you mean \"==\"?\n",
      "<>:7: SyntaxWarning: \"is\" with a literal. Did you mean \"==\"?\n",
      "C:\\Users\\nilay\\AppData\\Local\\Temp\\ipykernel_26376\\3323528074.py:7: SyntaxWarning: \"is\" with a literal. Did you mean \"==\"?\n",
      "  if face_portion is ():\n"
     ]
    },
    {
     "name": "stdout",
     "output_type": "stream",
     "text": [
      "Face is not found\n",
      "success- False\n",
      "Face is not found\n",
      "success- False\n",
      "Face is not found\n",
      "success- False\n"
     ]
    },
    {
     "name": "stderr",
     "output_type": "stream",
     "text": [
      "C:\\Users\\nilay\\AppData\\Local\\Temp\\ipykernel_26376\\3323528074.py:7: SyntaxWarning: \"is\" with a literal. Did you mean \"==\"?\n",
      "  if face_portion is ():\n",
      "C:\\Users\\nilay\\AppData\\Local\\Temp\\ipykernel_26376\\3323528074.py:7: SyntaxWarning: \"is\" with a literal. Did you mean \"==\"?\n",
      "  if face_portion is ():\n"
     ]
    },
    {
     "ename": "KeyboardInterrupt",
     "evalue": "",
     "output_type": "error",
     "traceback": [
      "\u001b[1;31m---------------------------------------------------------------------------\u001b[0m",
      "\u001b[1;31mKeyboardInterrupt\u001b[0m                         Traceback (most recent call last)",
      "Cell \u001b[1;32mIn[19], line 2\u001b[0m\n\u001b[0;32m      1\u001b[0m \u001b[38;5;28;01mwhile\u001b[39;00m \u001b[38;5;28;01mTrue\u001b[39;00m:\n\u001b[1;32m----> 2\u001b[0m     cap\u001b[38;5;241m=\u001b[39m\u001b[43mcv2\u001b[49m\u001b[38;5;241;43m.\u001b[39;49m\u001b[43mVideoCapture\u001b[49m\u001b[43m(\u001b[49m\u001b[38;5;241;43m0\u001b[39;49m\u001b[43m)\u001b[49m\n\u001b[0;32m      3\u001b[0m     success,image\u001b[38;5;241m=\u001b[39mcap\u001b[38;5;241m.\u001b[39mread()\n\u001b[0;32m      5\u001b[0m     face_portion\u001b[38;5;241m=\u001b[39mface_detector\u001b[38;5;241m.\u001b[39mdetectMultiScale(image)\n",
      "\u001b[1;31mKeyboardInterrupt\u001b[0m: "
     ]
    }
   ],
   "source": [
    "while True:\n",
    "    cap=cv2.VideoCapture(0)\n",
    "    success,image=cap.read()\n",
    "    \n",
    "    face_portion=face_detector.detectMultiScale(image)\n",
    "    \n",
    "    if face_portion is ():\n",
    "        print(\"Face is not found\")\n",
    "        print(\"success-\",success)\n",
    "        \n",
    "    else:\n",
    "        print(face_portion)\n",
    "        #cv2.imshow(\"Image Window\",image)\n",
    "    \n",
    "    if cv2.waitKey(100)==ord('q'):\n",
    "        break\n",
    "cap.release()\n",
    "cv2.destroyAllWindows()"
   ]
  },
  {
   "cell_type": "code",
   "execution_count": 9,
   "id": "e3218e3f",
   "metadata": {},
   "outputs": [
    {
     "data": {
      "text/plain": [
       "False"
      ]
     },
     "execution_count": 9,
     "metadata": {},
     "output_type": "execute_result"
    }
   ],
   "source": [
    "success"
   ]
  },
  {
   "cell_type": "code",
   "execution_count": 11,
   "id": "d0838454",
   "metadata": {},
   "outputs": [],
   "source": [
    "image\n"
   ]
  },
  {
   "cell_type": "code",
   "execution_count": 8,
   "id": "757b0f35",
   "metadata": {},
   "outputs": [],
   "source": [
    "cap.release()\n",
    "cv2.destroyAllWindows()"
   ]
  },
  {
   "cell_type": "code",
   "execution_count": 4,
   "id": "c4be9fd4",
   "metadata": {},
   "outputs": [
    {
     "data": {
      "text/plain": [
       "True"
      ]
     },
     "execution_count": 4,
     "metadata": {},
     "output_type": "execute_result"
    }
   ],
   "source": [
    "success"
   ]
  },
  {
   "cell_type": "code",
   "execution_count": 5,
   "id": "ef9c81b6",
   "metadata": {
    "collapsed": true
   },
   "outputs": [
    {
     "data": {
      "text/plain": [
       "array([[[148, 159, 149],\n",
       "        [145, 157, 146],\n",
       "        [143, 154, 144],\n",
       "        ...,\n",
       "        [137, 144, 128],\n",
       "        [140, 143, 127],\n",
       "        [138, 141, 125]],\n",
       "\n",
       "       [[145, 157, 147],\n",
       "        [145, 157, 146],\n",
       "        [144, 156, 145],\n",
       "        ...,\n",
       "        [134, 143, 131],\n",
       "        [133, 143, 131],\n",
       "        [132, 142, 130]],\n",
       "\n",
       "       [[143, 154, 144],\n",
       "        [144, 156, 145],\n",
       "        [144, 156, 145],\n",
       "        ...,\n",
       "        [134, 143, 131],\n",
       "        [133, 143, 131],\n",
       "        [132, 142, 130]],\n",
       "\n",
       "       ...,\n",
       "\n",
       "       [[129, 138, 128],\n",
       "        [126, 135, 126],\n",
       "        [126, 136, 126],\n",
       "        ...,\n",
       "        [127, 137, 131],\n",
       "        [124, 135, 129],\n",
       "        [123, 133, 128]],\n",
       "\n",
       "       [[128, 137, 127],\n",
       "        [126, 135, 126],\n",
       "        [126, 136, 126],\n",
       "        ...,\n",
       "        [127, 137, 131],\n",
       "        [125, 136, 130],\n",
       "        [125, 136, 130]],\n",
       "\n",
       "       [[128, 137, 127],\n",
       "        [128, 137, 127],\n",
       "        [128, 137, 127],\n",
       "        ...,\n",
       "        [127, 137, 131],\n",
       "        [125, 136, 130],\n",
       "        [127, 137, 131]]], dtype=uint8)"
      ]
     },
     "execution_count": 5,
     "metadata": {},
     "output_type": "execute_result"
    }
   ],
   "source": [
    "image"
   ]
  },
  {
   "cell_type": "code",
   "execution_count": 6,
   "id": "3c5d66e9",
   "metadata": {},
   "outputs": [],
   "source": []
  },
  {
   "cell_type": "code",
   "execution_count": null,
   "id": "1a52633c",
   "metadata": {},
   "outputs": [],
   "source": []
  }
 ],
 "metadata": {
  "kernelspec": {
   "display_name": "Python 3 (ipykernel)",
   "language": "python",
   "name": "python3"
  },
  "language_info": {
   "codemirror_mode": {
    "name": "ipython",
    "version": 3
   },
   "file_extension": ".py",
   "mimetype": "text/x-python",
   "name": "python",
   "nbconvert_exporter": "python",
   "pygments_lexer": "ipython3",
   "version": "3.10.9"
  }
 },
 "nbformat": 4,
 "nbformat_minor": 5
}
